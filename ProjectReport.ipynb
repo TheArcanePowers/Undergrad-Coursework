{
 "cells": [
  {
   "cell_type": "markdown",
   "metadata": {},
   "source": [
    "# Project Report\n",
    "The project is open-ended with the exact goal to be decided amongst your group but the theme is around simulations and data relating to the coronavirus epidemic. You should make a program or several programs that can either run simulations or produce plots based on real data.\n",
    "\n",
    "Along with your code there should be a group Project Report explaining your code and what it does and including some figures that are output from your code or perhaps links to videos or any other output.\n",
    "\n",
    "The report should not be long. The purpose of the report is to succinctly explain any models you are using or data that you have obtained and to show the resulting plots that you have made. This project is about code (rather than modelling, data analysis, or epidemiology) so the report should be about showcasing some outputs of your code and explaining how your code can be used to produce those as well as other outputs. A minimum of explanation is needed for those outputs to be understandable but you do not need to have a \"background\" section or a \"literature review\" or anything like that - It would be reasonable to include links to any references though e.g. if your models are inspired by something else."
   ]
  },
  {
   "cell_type": "markdown",
   "metadata": {},
   "source": [
    "# Data\n",
    "Carl writes where he got the data from"
   ]
  },
  {
   "cell_type": "markdown",
   "metadata": {},
   "source": [
    "# RoadMap 1\n",
    "We're using https://en.wikipedia.org/wiki/Erd%C5%91s%E2%80%93R%C3%A9nyi_model as the base model we're running our simulations on.\n",
    "On NDlib, there are 12 Epidemic models:\n",
    "In NDlib are implemented the following 6 Epidemic models:\n",
    "    * SI\n",
    "    * SIS\n",
    "    * SIR\n",
    "    * SEIR\n",
    "    * SEIS\n",
    "    * SWIR\n",
    "And another 6 less biological models:\n",
    "    * Threshold\n",
    "    * Generalised Threshold\n",
    "    * Kertesz Threshold\n",
    "    * Profile\n",
    "    * Profile-Threshold\n",
    "    * Independent Cascades\n",
    "\n",
    "The library also includes Opinion Dynamics - to help the study of how opinions form in a population taking into account various social theories. This is outside the scope of the project.\n",
    "\n",
    "Consider setting\n",
    "1. Node attributes - e.g threshold to be infected. Not applicable for all models (SEIR has none)\n",
    "2. Edge attributes - also not applicable\n",
    "3. Possibly doing a non-random infection seeding?"
   ]
  },
  {
   "cell_type": "markdown",
   "metadata": {},
   "source": [
    "# Roadmap 1\n",
    "We quickly realised that it was not feasible to create a graph with the actual values of population. Even 100,000 (1/5th of Bristol's population causes the program to freeze)"
   ]
  },
  {
   "cell_type": "code",
   "execution_count": 1,
   "metadata": {},
   "outputs": [],
   "source": [
    "# Measuring execution time for various graph sizes\n",
    "import datetime\n",
    "import networkx as nx\n",
    "\n",
    "timings = []\n",
    "for i in (10**i for i in range(1,6)):\n",
    "    for j in range(1,10):\n",
    "        start_time = datetime.datetime.now()\n",
    "        nx.erdos_renyi_graph(i*j, 0.1)\n",
    "        timings[i*j] = datetime.datetime.now() - start_time\n",
    "\n",
    "print(timings)"
   ]
  }
 ],
 "metadata": {
  "interpreter": {
   "hash": "8699a465521571f7275e4b99544d80dc54fefb49ddc802931edae4a21bd973f7"
  },
  "kernelspec": {
   "display_name": "Python 3.9.2 64-bit",
   "language": "python",
   "name": "python3"
  },
  "language_info": {
   "codemirror_mode": {
    "name": "ipython",
    "version": 3
   },
   "file_extension": ".py",
   "mimetype": "text/x-python",
   "name": "python",
   "nbconvert_exporter": "python",
   "pygments_lexer": "ipython3",
   "version": "3.9.2"
  },
  "orig_nbformat": 4
 },
 "nbformat": 4,
 "nbformat_minor": 2
}
