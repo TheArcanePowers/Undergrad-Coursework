{
 "cells": [
  {
   "cell_type": "markdown",
   "metadata": {},
   "source": [
    "# Project Report\n",
    "The project is open-ended with the exact goal to be decided amongst your group but the theme is around simulations and data relating to the coronavirus epidemic. You should make a program or several programs that can either run simulations or produce plots based on real data.\n",
    "\n",
    "Along with your code there should be a group Project Report explaining your code and what it does and including some figures that are output from your code or perhaps links to videos or any other output.\n",
    "\n",
    "The report should not be long. The purpose of the report is to succinctly explain any models you are using or data that you have obtained and to show the resulting plots that you have made. This project is about code (rather than modelling, data analysis, or epidemiology) so the report should be about showcasing some outputs of your code and explaining how your code can be used to produce those as well as other outputs. A minimum of explanation is needed for those outputs to be understandable but you do not need to have a \"background\" section or a \"literature review\" or anything like that - It would be reasonable to include links to any references though e.g. if your models are inspired by something else."
   ]
  },
  {
   "cell_type": "markdown",
   "metadata": {},
   "source": [
    "# Data\n",
    "Carl writes where he got the data from"
   ]
  },
  {
   "cell_type": "markdown",
   "metadata": {},
   "source": [
    "# RoadMap 1\n",
    "We're using https://en.wikipedia.org/wiki/Erd%C5%91s%E2%80%93R%C3%A9nyi_model as the base model we're running our simulations on.\n",
    "On NDlib, there are 12 Epidemic models:\n",
    "In NDlib are implemented the following 6 Epidemic models:\n",
    "    * SI\n",
    "    * SIS\n",
    "    * SIR\n",
    "    * SEIR\n",
    "    * SEIS\n",
    "    * SWIR\n",
    "And another 6 less biological models:\n",
    "    * Threshold\n",
    "    * Generalised Threshold\n",
    "    * Kertesz Threshold\n",
    "    * Profile\n",
    "    * Profile-Threshold\n",
    "    * Independent Cascades\n",
    "\n",
    "The library also includes Opinion Dynamics - to help the study of how opinions form in a population taking into account various social theories. This is outside the scope of the project.\n",
    "\n",
    "Consider setting\n",
    "1. Node attributes - e.g threshold to be infected. Not applicable for all models (SEIR has none)\n",
    "2. Edge attributes - also not applicable\n",
    "3. Possibly doing a non-random infection seeding?"
   ]
  },
  {
   "cell_type": "markdown",
   "metadata": {},
   "source": [
    "# Roadmap 1\n",
    "We quickly realised that it was not feasible to create a graph with the actual values of population. Even 100,000 (1/5th of Bristol's population causes the program to freeze)\n",
    "\n",
    "https://www.dam.brown.edu/drp/talks/JosephSheely.pdf gives us parameters to model COVID\n",
    "For reproducing the kinetics of real data we made the following assumptions:\n",
    "In the absence of containing strategies, the infection is characterized by a high infection rate (we take α=0.9) and a low removal rate (γ=0.025 or 0.05). (https://www.nature.com/articles/s41598-021-03721-x#Sec2)\n",
    "\n",
    "Latent period set to 3 =https://www.pnas.org/doi/10.1073/pnas.2008087117\n",
    "(TODO: CHECK!) removal rate 0.1 so that in 10 days eveyrone is removed\n",
    "\n",
    "TODO: Figure out what different model sizes change - so far it doesn't change anything if the parameters don't change lmfaoo"
   ]
  },
  {
   "cell_type": "code",
   "execution_count": 9,
   "metadata": {},
   "outputs": [
    {
     "name": "stdout",
     "output_type": "stream",
     "text": [
      "10 : 0.0\n",
      "100 : 0.000996\n",
      "1000 : 0.102023\n",
      "10000 : 17.681768\n"
     ]
    }
   ],
   "source": [
    "# Measuring execution time for various graph sizes\n",
    "import datetime\n",
    "import networkx as nx\n",
    "\n",
    "timings = {}\n",
    "for i in (10**i for i in range(1,5)):\n",
    "    start_time = datetime.datetime.now()\n",
    "    nx.erdos_renyi_graph(i, 0.1)\n",
    "    timings[i] = datetime.datetime.now() - start_time\n",
    "\n",
    "for i in timings:\n",
    "    print(i, \":\", timings[i].total_seconds())"
   ]
  },
  {
   "cell_type": "markdown",
   "metadata": {},
   "source": [
    "# Roadmap 2\n",
    "With RoadMap 1 completed - a simple SEIR simulation - we now realised that no matter the sample size, since infection is proportional the time taken for a percentage of a population to get infected will not change. The time taken to reach an absolute value might, but not the %.\n",
    "Consequently, we'll simulate different variants with different infection and removal rates."
   ]
  },
  {
   "cell_type": "markdown",
   "metadata": {},
   "source": [
    "# Roadmap 3\n",
    "Introduce Dynamic SIR model\n",
    "We're using a Snapshot Network, as we can separate network history into a series of snapshots, one a day. An alternative would be an Interaction Network, however this is onyl used when interaction is constant/cannot be separated.\n",
    "Model takes a WHILE to run!"
   ]
  },
  {
   "cell_type": "markdown",
   "metadata": {},
   "source": [
    "# Roadmap 4\n",
    "Compare different models and variants."
   ]
  },
  {
   "cell_type": "markdown",
   "metadata": {},
   "source": [
    "# Roadmap 5\n",
    "Introduce UTLDR model\n",
    "https://ndlib.readthedocs.io/en/latest/reference/models/epidemics/UTLDR.html"
   ]
  },
  {
   "cell_type": "markdown",
   "metadata": {},
   "source": [
    "whats next\n",
    "compare to real world data\n",
    "see if i can do removed into dead and alive"
   ]
  }
 ],
 "metadata": {
  "interpreter": {
   "hash": "8699a465521571f7275e4b99544d80dc54fefb49ddc802931edae4a21bd973f7"
  },
  "kernelspec": {
   "display_name": "Python 3.9.2 64-bit",
   "language": "python",
   "name": "python3"
  },
  "language_info": {
   "codemirror_mode": {
    "name": "ipython",
    "version": 3
   },
   "file_extension": ".py",
   "mimetype": "text/x-python",
   "name": "python",
   "nbconvert_exporter": "python",
   "pygments_lexer": "ipython3",
   "version": "3.9.2"
  },
  "orig_nbformat": 4
 },
 "nbformat": 4,
 "nbformat_minor": 2
}
